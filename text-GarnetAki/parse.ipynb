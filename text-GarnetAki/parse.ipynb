{
 "cells": [
  {
   "cell_type": "code",
   "execution_count": 1,
   "metadata": {},
   "outputs": [],
   "source": [
    "from tqdm import tqdm\n",
    "from bs4 import BeautifulSoup as bs\n",
    "import pandas as pd\n",
    "import urllib.error\n",
    "import urllib.request\n",
    "import time\n",
    "from config import REVIEW_START_ID, REVIEW_END_ID, URL_TEMPLATE, REQUEST_TIME_DELAY, HEADER_UA, HEADER_A, PATH_TO_SAVE_CSV"
   ]
  },
  {
   "cell_type": "code",
   "execution_count": 2,
   "metadata": {},
   "outputs": [],
   "source": [
    "def get_request(url: str) -> str:\n",
    "    req = urllib.request.Request(url)\n",
    "    req.add_header('User-Agent', HEADER_UA)\n",
    "    req.add_header('Accept', HEADER_A)\n",
    "    req.add_header('Accept-Language', 'en-US,en;q=0.5')\n",
    "    r = urllib.request.urlopen(req).read().decode('utf-8')\n",
    "    time.sleep(REQUEST_TIME_DELAY)\n",
    "    \n",
    "    return r\n",
    "\n",
    "def fill_data():\n",
    "    data = []\n",
    "    for ind in tqdm(range(REVIEW_START_ID, REVIEW_END_ID, 1)):\n",
    "        try:\n",
    "            response = get_request(URL_TEMPLATE + str(ind))\n",
    "            vote = -1\n",
    "            review = \"\"\n",
    "            soup = bs(response, \"html.parser\")\n",
    "            table = soup.find('table', {\"class\": \"fullreview\"})\n",
    "            strong = table.find_all('strong')\n",
    "            for text in strong:\n",
    "                if not text.text.find(\"Vote:\"):\n",
    "                    vote = (text.text[6:])\n",
    "            review = table.find_all('td')[-3].text\n",
    "            if (vote == -1):\n",
    "                continue\n",
    "            if review == \"\":\n",
    "                continue\n",
    "            data.append([ind, vote, review])\n",
    "        except:\n",
    "            continue\n",
    "    return data"
   ]
  },
  {
   "cell_type": "code",
   "execution_count": 3,
   "metadata": {},
   "outputs": [
    {
     "name": "stderr",
     "output_type": "stream",
     "text": [
      "100%|██████████| 8122/8122 [4:30:37<00:00,  2.00s/it]  \n"
     ]
    }
   ],
   "source": [
    "data = fill_data()\n",
    "columns=['Page ind', 'Rating', 'Text']\n",
    "df = pd.DataFrame(data, columns=columns)\n",
    "df.to_csv(PATH_TO_SAVE_CSV, index=False)"
   ]
  }
 ],
 "metadata": {
  "kernelspec": {
   "display_name": "Python 3",
   "language": "python",
   "name": "python3"
  },
  "language_info": {
   "codemirror_mode": {
    "name": "ipython",
    "version": 3
   },
   "file_extension": ".py",
   "mimetype": "text/x-python",
   "name": "python",
   "nbconvert_exporter": "python",
   "pygments_lexer": "ipython3",
   "version": "3.9.7"
  }
 },
 "nbformat": 4,
 "nbformat_minor": 2
}
